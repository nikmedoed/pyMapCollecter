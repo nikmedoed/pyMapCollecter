{
 "cells": [
  {
   "cell_type": "code",
   "execution_count": 1,
   "metadata": {},
   "outputs": [],
   "source": [
    "from selenium import webdriver \n",
    "from time import sleep\n",
    "from PIL import Image\n",
    "from io import BytesIO\n",
    "from tqdm.notebook import tqdm"
   ]
  },
  {
   "cell_type": "code",
   "execution_count": 74,
   "metadata": {},
   "outputs": [],
   "source": [
    "initLink = \"https://yandex.ru/maps/213/moscow/?ll=37.624027%2C55.753747&z=15.68\"\n",
    "\n",
    "width = 35000\n",
    "height = 50000\n",
    "\n",
    "boundSize = 500\n",
    "boundSizeHalf = boundSize//2\n",
    "\n",
    "sidebar = {\n",
    "    \"yandex\": \"sidebar-toggle-button__icon\"\n",
    "}"
   ]
  },
  {
   "cell_type": "code",
   "execution_count": 79,
   "metadata": {},
   "outputs": [],
   "source": [
    "def slide (browser, x,y):\n",
    "    action = webdriver.ActionChains(browser)\n",
    "#     action.move_to_element(mapElement).perform()    \n",
    "    action.click_and_hold(mapElement).move_by_offset(x,y).perform()\n",
    "    sleep(1) # change sleepTime for your internet connection\n",
    "    action.release().perform() \n",
    "    sleep(1)          "
   ]
  },
  {
   "cell_type": "code",
   "execution_count": 49,
   "metadata": {},
   "outputs": [],
   "source": [
    "slide(browser, 200,200)"
   ]
  },
  {
   "cell_type": "code",
   "execution_count": 54,
   "metadata": {},
   "outputs": [
    {
     "data": {
      "text/plain": [
       "{'width': 2000, 'height': 1417}"
      ]
     },
     "execution_count": 54,
     "metadata": {},
     "output_type": "execute_result"
    }
   ],
   "source": [
    "browser.get_window_size()"
   ]
  },
  {
   "cell_type": "code",
   "execution_count": 90,
   "metadata": {},
   "outputs": [],
   "source": [
    "action = webdriver.ActionChains(browser)\n",
    "# action.move_to_element(mapElement).perform() \n",
    "# action.move_by_offset(0,0).perform()\n",
    "# action.context_click().perform()\n",
    "action.click_and_hold(mapElement).move_by_offset(500,0).release().perform() "
   ]
  },
  {
   "cell_type": "code",
   "execution_count": 87,
   "metadata": {},
   "outputs": [],
   "source": [
    "action.drag_and_drop_by_offset(mapElement, 200, 200).perform()"
   ]
  },
  {
   "cell_type": "code",
   "execution_count": 50,
   "metadata": {},
   "outputs": [],
   "source": [
    "action.move_by_offset(200,200).perform()"
   ]
  },
  {
   "cell_type": "code",
   "execution_count": 29,
   "metadata": {},
   "outputs": [],
   "source": []
  },
  {
   "cell_type": "code",
   "execution_count": 2,
   "metadata": {},
   "outputs": [],
   "source": [
    "# you should set path to chromedriver https://chromedriver.chromium.org/downloads\n",
    "\n",
    "browser = webdriver.Chrome(executable_path='../chromedriver.exe')"
   ]
  },
  {
   "cell_type": "code",
   "execution_count": 75,
   "metadata": {},
   "outputs": [],
   "source": [
    "browser.set_window_size(2000,2000)\n",
    "browser.get(initLink)\n",
    "\n",
    "distanceToStartX = width //2 - boundSizeHalf\n",
    "distanceToStartY = height //2 - boundSizeHalf \n",
    "\n",
    "sidebar = next((x[1] for x in sidebar.items() if x[0] in initLink), None)\n",
    "\n",
    "browser.find_element_by_class_name(sidebar).click()"
   ]
  },
  {
   "cell_type": "code",
   "execution_count": 76,
   "metadata": {},
   "outputs": [],
   "source": [
    "mapElement = browser.find_element_by_tag_name(\"body\")"
   ]
  },
  {
   "cell_type": "code",
   "execution_count": 78,
   "metadata": {},
   "outputs": [
    {
     "data": {
      "application/vnd.jupyter.widget-view+json": {
       "model_id": "0ddc00668e764e1f968d6d859b8f0c3c",
       "version_major": 2,
       "version_minor": 0
      },
      "text/plain": [
       "HBox(children=(FloatProgress(value=1.0, bar_style='info', description='MoveToStart', max=1.0, style=ProgressSt…"
      ]
     },
     "metadata": {},
     "output_type": "display_data"
    }
   ],
   "source": [
    "pbar = tqdm( desc=\"MoveToStart\", total=distanceToStartX+distanceToStartY)\n",
    "selectShift = lambda x: x if x < boundSize else boundSize\n",
    "while 1:\n",
    "    toMoveX = selectShift(distanceToStartX)\n",
    "    toMoveY = selectShift(distanceToStartY)\n",
    "#     mapElement = browser.find_element_by_tag_name(\"body\")\n",
    "    slide(browser, toMoveX,toMoveY)\n",
    "    distanceToStartX -=toMoveX\n",
    "    distanceToStartY -=toMoveY\n",
    "    pbar.update(toMoveX+toMoveY)\n",
    "    if distanceToStartX == 0 and distanceToStartY==0:\n",
    "        break"
   ]
  },
  {
   "cell_type": "code",
   "execution_count": null,
   "metadata": {},
   "outputs": [],
   "source": [
    "smallScreenShoot =lambda im: im.crop([x//2 + s for s in [-boundSizeHalf,boundSizeHalf] for x in im.size ] )\n",
    "finalScreenShot = Image.new('RGB', (width, height))\n",
    "\n",
    "sign = 1\n",
    "reverse = width - width % boundSize - boundSize\n",
    "pbar = tqdm(total=((height //boundSize +  (1 if height % boundSize > 0 else 0 ))  * (width // boundSize + (1 if width % boundSize > 0 else 0))))\n",
    "for y in  range(0, height,boundSize ):\n",
    "    for x in  range(0, width,boundSize ):\n",
    "        png = browser.get_screenshot_as_png() \n",
    "        im = Image.open(BytesIO(png))        \n",
    "        finalScreenShot.paste(smallScreenShoot(im), (x if sign >0 else reverse - x,y))\n",
    "        slide(browser, -boundSize * sign,0)        \n",
    "        pbar.update(1)\n",
    "    sign *=-1\n",
    "    slide(browser, -boundSize * sign,-boundSize)        \n",
    "        \n",
    "finalScreenShot.save(\"resultmap.png\") \n",
    "finalScreenShot.show()"
   ]
  },
  {
   "cell_type": "code",
   "execution_count": 9,
   "metadata": {},
   "outputs": [],
   "source": [
    "# im = Image.open(\"resultmap.png\") \n",
    "# from PIL import Image, ImageEnhance \n",
    "# enhancer = ImageEnhance.Sharpness(im)\n",
    "# im_s_1 = enhancer.enhance(0.5) \n",
    "# im_s_1.save('original-image-1.png')  "
   ]
  },
  {
   "cell_type": "code",
   "execution_count": 10,
   "metadata": {},
   "outputs": [
    {
     "data": {
      "text/plain": [
       "(2000, 2000)"
      ]
     },
     "execution_count": 10,
     "metadata": {},
     "output_type": "execute_result"
    }
   ],
   "source": [
    "from selenium.webdriver.chrome.options import Options\n",
    "chrome_options = Options()\n",
    "chrome_options.add_argument(\"--headless\")\n",
    "browser = webdriver.Chrome(options=chrome_options)\n",
    "browser.set_window_size(2000,2000)\n",
    "png = browser.get_screenshot_as_png() \n",
    "im = Image.open(BytesIO(png))      \n",
    "im.size"
   ]
  },
  {
   "cell_type": "code",
   "execution_count": 93,
   "metadata": {},
   "outputs": [
    {
     "data": {
      "text/plain": [
       "{'width': 2000, 'height': 1417}"
      ]
     },
     "execution_count": 93,
     "metadata": {},
     "output_type": "execute_result"
    }
   ],
   "source": [
    "browser.get_window_size()\n",
    "# im.save(\"test.png\")"
   ]
  },
  {
   "cell_type": "code",
   "execution_count": null,
   "metadata": {},
   "outputs": [],
   "source": [
    "browser.quit()"
   ]
  },
  {
   "cell_type": "code",
   "execution_count": 17,
   "metadata": {},
   "outputs": [],
   "source": [
    "INIT_LINK = \"https://yandex.ru/maps/213/moscow/?ll=37.624027%2C55.753747&z=15.68\"\n",
    "SIDEBAR = {\n",
    "    \"yandex\": \"sidebar-toggle-button__icon\"\n",
    "}\n",
    "\n",
    "SIDEBAR = next((x[1] for x in SIDEBAR.items() if x[0] in INIT_LINK), None)"
   ]
  },
  {
   "cell_type": "code",
   "execution_count": 19,
   "metadata": {},
   "outputs": [
    {
     "name": "stdout",
     "output_type": "stream",
     "text": [
      "None\n"
     ]
    }
   ],
   "source": [
    "print(SIDEBAR)"
   ]
  },
  {
   "cell_type": "code",
   "execution_count": 92,
   "metadata": {},
   "outputs": [
    {
     "ename": "TypeError",
     "evalue": "unsupported operand type(s) for //: 'str' and 'int'",
     "output_type": "error",
     "traceback": [
      "\u001b[1;31m---------------------------------------------------------------------------\u001b[0m",
      "\u001b[1;31mTypeError\u001b[0m                                 Traceback (most recent call last)",
      "\u001b[1;32m<ipython-input-92-5062dc476429>\u001b[0m in \u001b[0;36m<module>\u001b[1;34m\u001b[0m\n\u001b[1;32m----> 1\u001b[1;33m \u001b[1;33m[\u001b[0m\u001b[0mx\u001b[0m \u001b[1;33m//\u001b[0m \u001b[1;36m2\u001b[0m \u001b[1;33m-\u001b[0m \u001b[1;36m10\u001b[0m \u001b[1;32mfor\u001b[0m \u001b[0mx\u001b[0m \u001b[1;32min\u001b[0m \u001b[0mbrowser\u001b[0m\u001b[1;33m.\u001b[0m\u001b[0mget_window_size\u001b[0m\u001b[1;33m(\u001b[0m\u001b[1;33m)\u001b[0m\u001b[1;33m]\u001b[0m\u001b[1;33m\u001b[0m\u001b[1;33m\u001b[0m\u001b[0m\n\u001b[0m",
      "\u001b[1;32m<ipython-input-92-5062dc476429>\u001b[0m in \u001b[0;36m<listcomp>\u001b[1;34m(.0)\u001b[0m\n\u001b[1;32m----> 1\u001b[1;33m \u001b[1;33m[\u001b[0m\u001b[0mx\u001b[0m \u001b[1;33m//\u001b[0m \u001b[1;36m2\u001b[0m \u001b[1;33m-\u001b[0m \u001b[1;36m10\u001b[0m \u001b[1;32mfor\u001b[0m \u001b[0mx\u001b[0m \u001b[1;32min\u001b[0m \u001b[0mbrowser\u001b[0m\u001b[1;33m.\u001b[0m\u001b[0mget_window_size\u001b[0m\u001b[1;33m(\u001b[0m\u001b[1;33m)\u001b[0m\u001b[1;33m]\u001b[0m\u001b[1;33m\u001b[0m\u001b[1;33m\u001b[0m\u001b[0m\n\u001b[0m",
      "\u001b[1;31mTypeError\u001b[0m: unsupported operand type(s) for //: 'str' and 'int'"
     ]
    }
   ],
   "source": [
    "[x // 2 - 10 for x in browser.get_window_size()]"
   ]
  }
 ],
 "metadata": {
  "kernelspec": {
   "display_name": "Python 3",
   "language": "python",
   "name": "python3"
  },
  "language_info": {
   "codemirror_mode": {
    "name": "ipython",
    "version": 3
   },
   "file_extension": ".py",
   "mimetype": "text/x-python",
   "name": "python",
   "nbconvert_exporter": "python",
   "pygments_lexer": "ipython3",
   "version": "3.8.3"
  }
 },
 "nbformat": 4,
 "nbformat_minor": 2
}
