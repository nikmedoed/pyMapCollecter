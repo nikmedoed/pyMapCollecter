{
 "cells": [
  {
   "cell_type": "code",
   "execution_count": 5,
   "metadata": {},
   "outputs": [],
   "source": [
    "from selenium import * webdriver \n",
    "from time import sleep\n",
    "from PIL import Image\n",
    "from io import BytesIO\n",
    "from tqdm import tqdm"
   ]
  },
  {
   "cell_type": "code",
   "execution_count": 102,
   "metadata": {},
   "outputs": [],
   "source": [
    "initLink = \"https://yandex.ru/maps/213/moscow/?ll=37.620853%2C55.752200&mode=whatshere&whatshere%5Bpoint%5D=37.616644%2C55.750826&whatshere%5Bzoom%5D=15.44&z=15.44\"\n",
    "\n",
    "width = 3000\n",
    "height = 5000\n",
    "\n",
    "boundSize = 500\n",
    "boundSizeHalf = boundSize//2\n",
    "\n",
    "sidebar = {\n",
    "    \"yandex\": \"sidebar-toggle-button__icon\"\n",
    "}"
   ]
  },
  {
   "cell_type": "code",
   "execution_count": 104,
   "metadata": {},
   "outputs": [],
   "source": [
    "def slide (browser, x,y):\n",
    "    action = webdriver.ActionChains(browser)\n",
    "    action.move_to_element(mapElement).perform()    \n",
    "    action.click_and_hold(mapElement).move_by_offset(x,y).perform()\n",
    "    sleep(1) # change sleepTime for your internet connection\n",
    "    action.release().perform() \n",
    "    sleep(1)          "
   ]
  },
  {
   "cell_type": "code",
   "execution_count": null,
   "metadata": {},
   "outputs": [],
   "source": [
    "# you should set path to chromedriver https://chromedriver.chromium.org/downloads\n",
    "\n",
    "browser = webdriver.Chrome()"
   ]
  },
  {
   "cell_type": "code",
   "execution_count": 103,
   "metadata": {},
   "outputs": [],
   "source": [
    "browser.set_window_size(2000,2000)\n",
    "browser.get(initLink)\n",
    "\n",
    "distanceToStartX = width //2 - boundSizeHalf\n",
    "distanceToStartY = height //2 - boundSizeHalf \n",
    "\n",
    "sidebar = next((x[1] for x in sidebar.items() if x[0] in initLink), None)\n",
    "\n",
    "browser.find_element_by_class_name(sidebar).click()"
   ]
  },
  {
   "cell_type": "code",
   "execution_count": 105,
   "metadata": {},
   "outputs": [],
   "source": [
    "mapElement = browser.find_element_by_tag_name(\"body\")"
   ]
  },
  {
   "cell_type": "code",
   "execution_count": 106,
   "metadata": {},
   "outputs": [
    {
     "name": "stdout",
     "output_type": "stream",
     "text": [
      "500 500 750 1750\n",
      "500 500 250 1250\n",
      "250 500 0 750\n",
      "0 500 0 250\n"
     ]
    }
   ],
   "source": [
    "selectShift = lambda x: x if x < boundSize else boundSize\n",
    "while 1:\n",
    "    toMoveX = selectShift(distanceToStartX)\n",
    "    toMoveY = selectShift(distanceToStartY)\n",
    "#     mapElement = browser.find_element_by_tag_name(\"body\")\n",
    "    slide(browser, toMoveX,toMoveY)\n",
    "    distanceToStartX -=toMoveX\n",
    "    distanceToStartY -=toMoveY\n",
    "    if distanceToStartX == 0 and distanceToStartY==0:\n",
    "        break\n",
    "    print(toMoveX, toMoveY, distanceToStartX, distanceToStartY)"
   ]
  },
  {
   "cell_type": "code",
   "execution_count": 107,
   "metadata": {},
   "outputs": [],
   "source": [
    "smallScreenShoot =lambda im: im.crop([x//2 + s for s in [-boundSizeHalf,boundSizeHalf] for x in im.size ] )\n",
    "finalScreenShot = Image.new('RGB', (width, height))\n",
    "\n",
    "sign = 1\n",
    "for y in  range(0, height,boundSize ):\n",
    "    for x in  range(0, width,boundSize ):\n",
    "        png = browser.get_screenshot_as_png() \n",
    "        im = Image.open(BytesIO(png))\n",
    "        finalScreenShot.paste(smallScreenShoot(im), ( x,y))\n",
    "        slide(browser, -boundSize * sign,0)        \n",
    "    slide(browser, 0,-boundSize)        \n",
    "    sign *=-1\n",
    "        \n",
    "finalScreenShot.save(\"resultmap.png\")              "
   ]
  },
  {
   "cell_type": "code",
   "execution_count": 100,
   "metadata": {},
   "outputs": [],
   "source": []
  },
  {
   "cell_type": "code",
   "execution_count": null,
   "metadata": {},
   "outputs": [],
   "source": []
  }
 ],
 "metadata": {
  "kernelspec": {
   "display_name": "Python 3",
   "language": "python",
   "name": "python3"
  },
  "language_info": {
   "codemirror_mode": {
    "name": "ipython",
    "version": 3
   },
   "file_extension": ".py",
   "mimetype": "text/x-python",
   "name": "python",
   "nbconvert_exporter": "python",
   "pygments_lexer": "ipython3",
   "version": "3.8.3"
  }
 },
 "nbformat": 4,
 "nbformat_minor": 2
}
