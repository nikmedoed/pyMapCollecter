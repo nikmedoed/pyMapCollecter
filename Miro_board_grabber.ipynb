{
 "cells": [
  {
   "cell_type": "code",
   "execution_count": 5,
   "metadata": {},
   "outputs": [],
   "source": [
    "from selenium import webdriver \n",
    "from time import sleep\n",
    "from PIL import Image\n",
    "from io import BytesIO\n",
    "from tqdm.notebook import tqdm\n",
    "from selenium.webdriver.common.keys import Keys\n",
    "import datetime\n",
    "from webdriver_manager.chrome import ChromeDriverManager "
   ]
  },
  {
   "cell_type": "code",
   "execution_count": 8,
   "metadata": {},
   "outputs": [],
   "source": [
    "import os\n",
    "CHROMEDRIVER_PATH = os.getenv(\"SELENIUM_CHROMEDRIVER_PATH\") or \"../chromedriver.exe\""
   ]
  },
  {
   "cell_type": "code",
   "execution_count": 9,
   "metadata": {},
   "outputs": [],
   "source": [
    "initLink = \"https://miro.com/app/dashboard/\"\n",
    "browser = webdriver.Chrome(ChromeDriverManager().install(), executable_path=CHROMEDRIVER_PATH)\n",
    "browser.get(initLink)\n",
    "\n",
    "\n",
    "# You should check target board and move screen focus on left upper point of your desired picture zone\n",
    "# And then you should start running of the next blocks"
   ]
  },
  {
   "cell_type": "code",
   "execution_count": 28,
   "metadata": {},
   "outputs": [],
   "source": [
    "mapElement = browser.find_element_by_class_name(\"angular-root\")\n",
    "boundSize = 500\n",
    "boundSizeHalf = boundSize//2\n",
    "width=18000\n",
    "height=12000"
   ]
  },
  {
   "cell_type": "code",
   "execution_count": 11,
   "metadata": {},
   "outputs": [],
   "source": [
    "def slide (browser, x,y):\n",
    "    action = webdriver.ActionChains(browser)\n",
    "#     action.move_to_element(mapElement).perform()    \n",
    "#     action.click_and_hold(mapElement).move_by_offset(x,y).perform()\n",
    "    action.key_down(Keys.SPACE).click_and_hold(mapElement).move_by_offset(x,y).key_up(Keys.SPACE).perform()\n",
    "    sleep(1) # change sleepTime for your internet connection\n",
    "    action.release().perform() \n",
    "    sleep(1)     \n",
    "    \n",
    "# slide(browser,-500,-500)     "
   ]
  },
  {
   "cell_type": "code",
   "execution_count": 29,
   "metadata": {},
   "outputs": [
    {
     "data": {
      "application/vnd.jupyter.widget-view+json": {
       "model_id": "4eed4540a21941f5a70697fdb48cd01f",
       "version_major": 2,
       "version_minor": 0
      },
      "text/plain": [
       "  0%|          | 0/864 [00:00<?, ?it/s]"
      ]
     },
     "metadata": {},
     "output_type": "display_data"
    }
   ],
   "source": [
    "smallScreenShoot =lambda im: im.crop([x//2 + s for s in [-boundSizeHalf,boundSizeHalf] for x in im.size ] )\n",
    "finalScreenShot = Image.new('RGB', (width, height))\n",
    "\n",
    "sign = 1\n",
    "reverse = width - width % boundSize - boundSize\n",
    "pbar = tqdm(total=((height //boundSize +  (1 if height % boundSize > 0 else 0 ))  * (width // boundSize + (1 if width % boundSize > 0 else 0))))\n",
    "for y in  range(0, height,boundSize ):\n",
    "    for x in  range(0, width,boundSize ):\n",
    "        png = browser.get_screenshot_as_png() \n",
    "        im = Image.open(BytesIO(png))        \n",
    "        finalScreenShot.paste(smallScreenShoot(im), (x if sign >0 else reverse - x,y))\n",
    "        slide(browser, -boundSize * sign,0)        \n",
    "        pbar.update(1)\n",
    "    sign *=-1\n",
    "    slide(browser, -boundSize * sign,-boundSize)        \n",
    "        \n",
    "finalScreenShot.save(f\"{datetime.datetime.now().strftime('%Y-%m-%d %H-%M-%S')}.png\") \n",
    "finalScreenShot.show()"
   ]
  },
  {
   "cell_type": "code",
   "execution_count": 27,
   "metadata": {},
   "outputs": [],
   "source": [
    "finalScreenShot.save(f\"{datetime.datetime.now().strftime('%Y-%m-%d %H-%M-%S')}.png\") "
   ]
  }
 ],
 "metadata": {
  "kernelspec": {
   "display_name": "Python 3 (ipykernel)",
   "language": "python",
   "name": "python3"
  },
  "language_info": {
   "codemirror_mode": {
    "name": "ipython",
    "version": 3
   },
   "file_extension": ".py",
   "mimetype": "text/x-python",
   "name": "python",
   "nbconvert_exporter": "python",
   "pygments_lexer": "ipython3",
   "version": "3.9.7"
  }
 },
 "nbformat": 4,
 "nbformat_minor": 2
}
